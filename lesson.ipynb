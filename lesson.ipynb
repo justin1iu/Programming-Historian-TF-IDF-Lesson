{
 "cells": [
  {
   "cell_type": "code",
   "execution_count": 7,
   "id": "bd488ebe",
   "metadata": {},
   "outputs": [
    {
     "name": "stdout",
     "output_type": "stream",
     "text": [
      "2\n",
      "2\n"
     ]
    }
   ],
   "source": [
    "from pathlib import Path\n",
    "from sklearn.feature_extraction.text import TfidfVectorizer\n",
    "import pandas as pd\n",
    "\n",
    "all_txt_files = []\n",
    "for file in Path(\".\").rglob(\"*.txt\"):\n",
    "    all_txt_files.append(file.parent / file.name)\n",
    "\n",
    "n_files = len(all_txt_files)\n",
    "print(n_files)\n",
    "all_txt_files.sort()\n",
    "\n",
    "all_docs = []\n",
    "for txt_file in all_txt_files:\n",
    "    with open(txt_file, encoding='utf-8') as f:\n",
    "        txt_file_as_string = f.read().strip()\n",
    "    if txt_file_as_string:\n",
    "        all_docs.append(txt_file_as_string)\n",
    "\n",
    "vectorizer = TfidfVectorizer(max_df=0.65, min_df=1, stop_words=None, use_idf=True, norm=None)\n",
    "transformed_documents = vectorizer.fit_transform(all_docs)\n",
    "\n",
    "transformed_documents_as_array = transformed_documents.toarray()\n",
    "print(len(transformed_documents_as_array))\n",
    "\n",
    "Path(\"./tf_idf_output\").mkdir(parents=True, exist_ok=True)\n",
    "\n",
    "output_filenames = [\n",
    "    str(txt_file).replace(\".txt\", \".csv\").replace(\"./\", \"tf_idf_output/\")\n",
    "    for txt_file in all_txt_files\n",
    "]\n",
    "\n",
    "for counter, doc in enumerate(transformed_documents_as_array):\n",
    "    tf_idf_tuples = list(zip(vectorizer.get_feature_names_out(), doc))\n",
    "    one_doc_as_df = pd.DataFrame.from_records(\n",
    "        tf_idf_tuples, columns=['term', 'score']\n",
    "    ).sort_values(by='score', ascending=False).reset_index(drop=True)\n",
    "    one_doc_as_df.to_csv(output_filenames[counter], index=False)\n"
   ]
  }
 ],
 "metadata": {
  "kernelspec": {
   "display_name": "Python 3",
   "language": "python",
   "name": "python3"
  },
  "language_info": {
   "codemirror_mode": {
    "name": "ipython",
    "version": 3
   },
   "file_extension": ".py",
   "mimetype": "text/x-python",
   "name": "python",
   "nbconvert_exporter": "python",
   "pygments_lexer": "ipython3",
   "version": "3.12.1"
  }
 },
 "nbformat": 4,
 "nbformat_minor": 5
}
